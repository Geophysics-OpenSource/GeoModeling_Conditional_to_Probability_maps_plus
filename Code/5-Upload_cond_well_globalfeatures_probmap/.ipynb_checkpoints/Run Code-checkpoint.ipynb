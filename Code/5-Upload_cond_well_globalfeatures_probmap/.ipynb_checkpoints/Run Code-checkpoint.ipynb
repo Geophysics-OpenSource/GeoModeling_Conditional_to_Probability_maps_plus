{
 "cells": [
  {
   "cell_type": "code",
   "execution_count": 2,
   "metadata": {},
   "outputs": [
    {
     "name": "stdout",
     "output_type": "stream",
     "text": [
      "/home/users/suihong/5-cond_well_globalfeatures_probmap_smoothing\n"
     ]
    }
   ],
   "source": [
    "%cd /home/users/suihong/5-Upload_cond_well_globalfeatures_probmap/"
   ]
  },
  {
   "cell_type": "code",
   "execution_count": null,
   "metadata": {
    "scrolled": false
   },
   "outputs": [
    {
     "name": "stdout",
     "output_type": "stream",
     "text": [
      "Initializing TensorFlow...\n",
      "Running train.train_progressive_gan()...\n",
      "Streaming data using dataset.TFRecordDataset...\n",
      "Dataset shape = [1, 64, 64]\n",
      "Dynamic range = [0, 255]\n",
      "Label size    = 1\n",
      "Constructing networks...\n",
      "\n",
      "G                           Params      OutputShape             WeightShape             \n",
      "---                         ---         ---                     ---                     \n",
      "latents_in                  -           (?, 128)                -                       \n",
      "labels_in                   -           (?, 1)                  -                       \n",
      "wellfacies_in               -           (?, 2, 64, 64)          -                       \n",
      "probimages_in               -           (?, 1, 64, 64)          -                       \n",
      "lod                         -           ()                      -                       \n",
      "4x4/Dense                   264320      (?, 128, 4, 4)          (129, 2048)             \n",
      "4x4/Add_Prob                32          (?, 16, 4, 4)           (1, 1, 1, 16)           \n",
      "4x4/Conv                    166016      (?, 128, 4, 4)          (3, 3, 144, 128)        \n",
      "ToRGB_lod4                  129         (?, 1, 4, 4)            (1, 1, 128, 1)          \n",
      "8x8/Upscale2D               -           (?, 128, 8, 8)          -                       \n",
      "8x8/Add_Prob                32          (?, 16, 8, 8)           (1, 1, 1, 16)           \n",
      "8x8/Add_Wellfc              48          (?, 16, 8, 8)           (1, 1, 2, 16)           \n",
      "8x8/Conv0                   184448      (?, 128, 8, 8)          (3, 3, 160, 128)        \n",
      "8x8/Conv1                   147584      (?, 128, 8, 8)          (3, 3, 128, 128)        \n",
      "ToRGB_lod3                  129         (?, 1, 8, 8)            (1, 1, 128, 1)          \n",
      "Upscale2D                   -           (?, 1, 8, 8)            -                       \n",
      "Grow_lod3                   -           (?, 1, 8, 8)            -                       \n",
      "16x16/Upscale2D             -           (?, 128, 16, 16)        -                       \n",
      "16x16/Add_Prob              32          (?, 16, 16, 16)         (1, 1, 1, 16)           \n",
      "16x16/Add_Wellfc            48          (?, 16, 16, 16)         (1, 1, 2, 16)           \n",
      "16x16/Conv0                 184448      (?, 128, 16, 16)        (3, 3, 160, 128)        \n",
      "16x16/Conv1                 147584      (?, 128, 16, 16)        (3, 3, 128, 128)        \n",
      "ToRGB_lod2                  129         (?, 1, 16, 16)          (1, 1, 128, 1)          \n",
      "Upscale2D_1                 -           (?, 1, 16, 16)          -                       \n",
      "Grow_lod2                   -           (?, 1, 16, 16)          -                       \n",
      "32x32/Upscale2D             -           (?, 128, 32, 32)        -                       \n",
      "32x32/Add_Prob              32          (?, 16, 32, 32)         (1, 1, 1, 16)           \n",
      "32x32/Add_Wellfc            48          (?, 16, 32, 32)         (1, 1, 2, 16)           \n",
      "32x32/Conv0                 184448      (?, 128, 32, 32)        (3, 3, 160, 128)        \n",
      "32x32/Conv1                 147584      (?, 128, 32, 32)        (3, 3, 128, 128)        \n",
      "ToRGB_lod1                  129         (?, 1, 32, 32)          (1, 1, 128, 1)          \n",
      "Upscale2D_2                 -           (?, 1, 32, 32)          -                       \n",
      "Grow_lod1                   -           (?, 1, 32, 32)          -                       \n",
      "64x64/Upscale2D             -           (?, 128, 64, 64)        -                       \n",
      "64x64/Add_Prob              32          (?, 16, 64, 64)         (1, 1, 1, 16)           \n",
      "64x64/Add_Wellfc            48          (?, 16, 64, 64)         (1, 1, 2, 16)           \n",
      "64x64/Conv0                 92224       (?, 64, 64, 64)         (3, 3, 160, 64)         \n",
      "64x64/Conv1                 36928       (?, 64, 64, 64)         (3, 3, 64, 64)          \n",
      "ToRGB_lod0                  65          (?, 1, 64, 64)          (1, 1, 64, 1)           \n",
      "Upscale2D_3                 -           (?, 1, 64, 64)          -                       \n",
      "Grow_lod0                   -           (?, 1, 64, 64)          -                       \n",
      "images_out                  -           (?, 1, 64, 64)          -                       \n",
      "---                         ---         ---                     ---                     \n",
      "Total                       1556517                                                     \n",
      "\n",
      "\n",
      "D                           Params      OutputShape             WeightShape             \n",
      "---                         ---         ---                     ---                     \n",
      "images_in                   -           (?, 1, 64, 64)          -                       \n",
      "lod                         -           ()                      -                       \n",
      "FromRGB_lod0                128         (?, 64, 64, 64)         (1, 1, 1, 64)           \n",
      "64x64/Conv0                 36928       (?, 64, 64, 64)         (3, 3, 64, 64)          \n",
      "64x64/Conv1_down            73856       (?, 128, 32, 32)        (3, 3, 64, 128)         \n",
      "Downscale2D                 -           (?, 1, 32, 32)          -                       \n",
      "FromRGB_lod1                256         (?, 128, 32, 32)        (1, 1, 1, 128)          \n",
      "Grow_lod0                   -           (?, 128, 32, 32)        -                       \n",
      "32x32/Conv0                 147584      (?, 128, 32, 32)        (3, 3, 128, 128)        \n",
      "32x32/Conv1_down            147584      (?, 128, 16, 16)        (3, 3, 128, 128)        \n",
      "Downscale2D_1               -           (?, 1, 16, 16)          -                       \n",
      "FromRGB_lod2                256         (?, 128, 16, 16)        (1, 1, 1, 128)          \n",
      "Grow_lod1                   -           (?, 128, 16, 16)        -                       \n",
      "16x16/Conv0                 147584      (?, 128, 16, 16)        (3, 3, 128, 128)        \n",
      "16x16/Conv1_down            147584      (?, 128, 8, 8)          (3, 3, 128, 128)        \n",
      "Downscale2D_2               -           (?, 1, 8, 8)            -                       \n",
      "FromRGB_lod3                256         (?, 128, 8, 8)          (1, 1, 1, 128)          \n",
      "Grow_lod2                   -           (?, 128, 8, 8)          -                       \n",
      "8x8/Conv0                   147584      (?, 128, 8, 8)          (3, 3, 128, 128)        \n",
      "8x8/Conv1_down              147584      (?, 128, 4, 4)          (3, 3, 128, 128)        \n",
      "Downscale2D_3               -           (?, 1, 4, 4)            -                       \n",
      "FromRGB_lod4                256         (?, 128, 4, 4)          (1, 1, 1, 128)          \n",
      "Grow_lod3                   -           (?, 128, 4, 4)          -                       \n",
      "4x4/MinibatchStddev         -           (?, 1, 4, 4)            -                       \n",
      "4x4/Conv                    148736      (?, 128, 4, 4)          (3, 3, 129, 128)        \n",
      "4x4/Dense0                  262272      (?, 128)                (2048, 128)             \n",
      "4x4/Dense1                  258         (?, 2)                  (128, 2)                \n",
      "scores_out                  -           (?, 1)                  -                       \n",
      "labels_out                  -           (?, 1)                  -                       \n",
      "---                         ---         ---                     ---                     \n",
      "Total                       1408706                                                     \n",
      "\n",
      "Building TensorFlow graph...\n",
      "Setting up snapshot image grid...\n",
      "Setting up result dir...\n",
      "Saving results to /scratch/users/suihong/ProGAN_MultiChannel_Reusults_ConditionedtoMultiConditions_TF/1032-pgan-2gpu-CondMud_0.2-CondWell_0.25-Enlarg-CondProb_0.2-new-FS\n",
      "Training...\n",
      "tick 1     kimg 640.0    lod 4.00  minibatch 32   time 22m 03s      sec/tick 1323.0  sec/kimg 2.07    maintenance 61.6\n",
      "tick 2     kimg 1280.0   lod 3.00  minibatch 32   time 45m 15s      sec/tick 1379.2  sec/kimg 2.15    maintenance 12.7\n",
      "tick 3     kimg 1920.0   lod 3.00  minibatch 32   time 1h 06m 46s   sec/tick 1291.2  sec/kimg 2.02    maintenance 0.2\n"
     ]
    }
   ],
   "source": [
    "\n",
    "% run train.py"
   ]
  },
  {
   "cell_type": "code",
   "execution_count": null,
   "metadata": {
    "collapsed": true
   },
   "outputs": [],
   "source": []
  }
 ],
 "metadata": {
  "kernelspec": {
   "display_name": "Python 3",
   "language": "python",
   "name": "python3"
  },
  "language_info": {
   "codemirror_mode": {
    "name": "ipython",
    "version": 3
   },
   "file_extension": ".py",
   "mimetype": "text/x-python",
   "name": "python",
   "nbconvert_exporter": "python",
   "pygments_lexer": "ipython3",
   "version": "3.6.1"
  }
 },
 "nbformat": 4,
 "nbformat_minor": 2
}
