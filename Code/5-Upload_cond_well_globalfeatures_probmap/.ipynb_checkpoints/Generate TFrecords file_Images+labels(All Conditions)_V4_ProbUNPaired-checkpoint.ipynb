{
 "cells": [
  {
   "cell_type": "code",
   "execution_count": 1,
   "metadata": {
    "collapsed": true
   },
   "outputs": [],
   "source": [
    "import numpy as np\n",
    "import tensorflow as tf\n",
    "import os"
   ]
  },
  {
   "cell_type": "code",
   "execution_count": 2,
   "metadata": {
    "collapsed": true
   },
   "outputs": [],
   "source": [
    "# copy from ProGAN github dataset_tools.py\n",
    "class TFRecordExporter:\n",
    "    def __init__(self, tfrecord_dir, expected_images, print_progress=True, progress_interval=10):\n",
    "        self.tfrecord_dir       = tfrecord_dir\n",
    "        self.tfr_prefix         = os.path.join(self.tfrecord_dir, os.path.basename(self.tfrecord_dir))\n",
    "        self.expected_images    = expected_images\n",
    "        self.cur_images         = 0\n",
    "        self.shape              = None\n",
    "        self.resolution_log2    = None\n",
    "        self.tfr_writers        = []\n",
    "        self.print_progress     = print_progress\n",
    "        self.progress_interval  = progress_interval\n",
    "        if self.print_progress:\n",
    "            print('Creating dataset \"%s\"' % tfrecord_dir)\n",
    "        if not os.path.isdir(self.tfrecord_dir):\n",
    "            os.makedirs(self.tfrecord_dir)\n",
    "        assert(os.path.isdir(self.tfrecord_dir))\n",
    "        \n",
    "    def close(self):\n",
    "        if self.print_progress:\n",
    "            print('%-40s\\r' % 'Flushing data...', end='', flush=True)\n",
    "        for tfr_writer in self.tfr_writers:\n",
    "            tfr_writer.close()\n",
    "        self.tfr_writers = []\n",
    "        if self.print_progress:\n",
    "            print('%-40s\\r' % '', end='', flush=True)\n",
    "            print('Added %d images.' % self.cur_images)\n",
    "\n",
    "    def choose_shuffled_order(self): # Note: Images and labels must be added in shuffled order.\n",
    "        order = np.arange(self.expected_images)\n",
    "        np.random.RandomState(123).shuffle(order)\n",
    "        return order\n",
    "\n",
    "    def add_real_image(self, real_img):\n",
    "        if self.print_progress and self.cur_images % self.progress_interval == 0:\n",
    "            print('%d / %d\\r' % (self.cur_images, self.expected_images), end='', flush=True)\n",
    "        if self.shape is None:\n",
    "            self.shape = real_img.shape\n",
    "            self.resolution_log2 = int(np.log2(self.shape[1]))\n",
    "            assert self.shape[0] in [1, 3]\n",
    "            assert self.shape[1] == self.shape[2]\n",
    "            assert self.shape[1] == 2**self.resolution_log2\n",
    "            tfr_opt = tf.python_io.TFRecordOptions(tf.python_io.TFRecordCompressionType.NONE)\n",
    "            for lod in range(self.resolution_log2 - 1):\n",
    "                tfr_file = self.tfr_prefix + '-1r%02d.tfrecords' % (self.resolution_log2 - lod)\n",
    "                self.tfr_writers.append(tf.python_io.TFRecordWriter(tfr_file, tfr_opt))\n",
    "            self.tfr_writers.append(tf.python_io.TFRecordWriter(tfr_file, tfr_opt))\n",
    "        assert real_img.shape == self.shape\n",
    "        for lod, tfr_writer in enumerate(self.tfr_writers[:-1]):\n",
    "            if lod:\n",
    "                real_img = real_img.astype(np.float32)\n",
    "                real_img = (real_img[:, 0::2, 0::2] + real_img[:, 0::2, 1::2] + real_img[:, 1::2, 0::2] + real_img[:, 1::2, 1::2]) * 0.25\n",
    "            quant = np.rint(real_img).clip(0, 255).astype(np.uint8)\n",
    "            ex = tf.train.Example(features=tf.train.Features(feature={\n",
    "                'shape': tf.train.Feature(int64_list=tf.train.Int64List(value=quant.shape)),\n",
    "                'data': tf.train.Feature(bytes_list=tf.train.BytesList(value=[quant.tostring()]))}))\n",
    "            tfr_writer.write(ex.SerializeToString())\n",
    "        self.cur_images += 1\n",
    "        \n",
    "        \n",
    "    def add_prob_image(self, prob_image):\n",
    "        if self.print_progress and self.cur_images % self.progress_interval == 0:\n",
    "            print('%d / %d\\r' % (self.cur_images, self.expected_images), end='', flush=True)\n",
    "        if self.shape is None:\n",
    "            self.shape = prob_image.shape\n",
    "            tfr_opt = tf.python_io.TFRecordOptions(tf.python_io.TFRecordCompressionType.NONE)\n",
    "            # add probimages writer into self.tfr_writers    \n",
    "            tfr_file = self.tfr_prefix + '-2probimages.tfrecords' \n",
    "            self.tfr_writers.append(tf.python_io.TFRecordWriter(tfr_file, tfr_opt))\n",
    "        # Writting prob_image into tfrecord file\n",
    "        quant = prob_image.clip(0, 1).astype(np.float16)\n",
    "        ex = tf.train.Example(features=tf.train.Features(feature={\n",
    "            'shape': tf.train.Feature(int64_list=tf.train.Int64List(value=quant.shape)),\n",
    "            'data': tf.train.Feature(bytes_list=tf.train.BytesList(value=[quant.tostring()]))}))\n",
    "        self.tfr_writers[0].write(ex.SerializeToString())\n",
    "        self.cur_images += 1           \n",
    "\n",
    "    def add_well_facies(self, well_facies):\n",
    "        if self.print_progress and self.cur_images % self.progress_interval == 0:\n",
    "            print('%d / %d\\r' % (self.cur_images, self.expected_images), end='', flush=True)\n",
    "        if self.shape is None:\n",
    "            self.shape = well_facies.shape\n",
    "            tfr_opt = tf.python_io.TFRecordOptions(tf.python_io.TFRecordCompressionType.NONE)\n",
    "            # add well_facies writer into self.tfr_writers    \n",
    "            tfr_file = self.tfr_prefix + '-3wellfacies.tfrecords' \n",
    "            self.tfr_writers.append(tf.python_io.TFRecordWriter(tfr_file, tfr_opt))\n",
    "        # Writting well_facies into tfrecord file\n",
    "        quant = well_facies.astype(np.uint8)\n",
    "        ex = tf.train.Example(features=tf.train.Features(feature={\n",
    "            'shape': tf.train.Feature(int64_list=tf.train.Int64List(value=quant.shape)),\n",
    "            'data': tf.train.Feature(bytes_list=tf.train.BytesList(value=[quant.tostring()]))}))\n",
    "        self.tfr_writers[0].write(ex.SerializeToString())\n",
    "        self.cur_images += 1           \n",
    "        \n",
    "        \n",
    "    def add_labels(self, labels):\n",
    "        if self.print_progress:\n",
    "            print('%-40s\\r' % 'Saving labels...', end='', flush=True)\n",
    "        assert labels.shape[0] == self.cur_images\n",
    "        with open(self.tfr_prefix + '-4rxx.labels', 'wb') as f:\n",
    "            np.save(f, labels.astype(np.float32))\n",
    "\n",
    "    def __enter__(self):\n",
    "        return self\n",
    "    \n",
    "    def __exit__(self, *args):\n",
    "        self.close()"
   ]
  },
  {
   "cell_type": "code",
   "execution_count": 3,
   "metadata": {
    "collapsed": true
   },
   "outputs": [],
   "source": [
    "from scipy.stats import multivariate_normal\n",
    "def norm_kernel(size = 9, sigma = 2):\n",
    "    sig = sigma * np.eye(2)\n",
    "    mean = np.zeros(2,)\n",
    "    size_min = -(size - 1)/2\n",
    "    size_max = (size - 1)/2\n",
    "    x = np.linspace(size_min, size_max, size)\n",
    "    y = np.linspace(size_min, size_max, size)\n",
    "    xk, yk = np.meshgrid(x, y)\n",
    "    kernel = np.zeros((size,size), dtype=np.float32)\n",
    "    for i in range(size):\n",
    "        for j in range(size):\n",
    "            coord = np.squeeze([xk[i,j], yk[i,j]])\n",
    "            kernel[i,j] = multivariate_normal.pdf(coord, mean=mean, cov=sig)\n",
    "    kernel_sum = np.sum(kernel)\n",
    "    kernel = kernel / kernel_sum\n",
    "    return kernel"
   ]
  },
  {
   "cell_type": "code",
   "execution_count": 4,
   "metadata": {
    "collapsed": true
   },
   "outputs": [],
   "source": [
    "Filepath = '/home/users/suihong/training_data/TrainingData(MultiChannels_Version4)/2D_AllPro_Gslib_fromPetrel(version4)' \n",
    "labels_path = '/home/users/suihong/training_data/TrainingData(MultiChannels_Version4)/labels(version4).txt' \n",
    "tfrecord_dir = '/scratch/users/suihong/training_data/TrainingData(MultiChannels_Version4)/Imgs_Labels_Prob_Wells_tfrecords'"
   ]
  },
  {
   "cell_type": "markdown",
   "metadata": {},
   "source": [
    "#### load images"
   ]
  },
  {
   "cell_type": "code",
   "execution_count": 5,
   "metadata": {
    "collapsed": true
   },
   "outputs": [],
   "source": [
    "allele=[]  # store all elements of the file. including 100*100 lists, and each list includes code for all realizations\n",
    "with open (Filepath) as fl:\n",
    "    for line in fl:\n",
    "        eles = line.strip().split(' ')\n",
    "       \n",
    "        if len(eles)>=5:            \n",
    "            allele.append(eles)\n",
    "            \n",
    "rlz_no = len(allele[0]) # number of realizations\n"
   ]
  },
  {
   "cell_type": "code",
   "execution_count": 6,
   "metadata": {
    "collapsed": true
   },
   "outputs": [],
   "source": [
    "partimgs = np.array(allele, dtype = float).reshape((64, 64, rlz_no)).astype(int)\n",
    "partimgs = np.where(partimgs == 1, 4, partimgs)/2 * 127.5 # exchange code of levee and channels\n",
    "allimgs = np.concatenate((partimgs, partimgs[::-1,:,:]),2)  \n",
    "allimgs = np.transpose(allimgs, (2, 0, 1))  # transpose into (?, 64, 64) dimension\n",
    "allimgs = allimgs.reshape(-1, 1, 64, 64)"
   ]
  },
  {
   "cell_type": "code",
   "execution_count": 7,
   "metadata": {},
   "outputs": [
    {
     "name": "stdout",
     "output_type": "stream",
     "text": [
      "(35640, 1, 64, 64)\n"
     ]
    }
   ],
   "source": [
    "print(allimgs.shape)"
   ]
  },
  {
   "cell_type": "code",
   "execution_count": 8,
   "metadata": {
    "collapsed": true
   },
   "outputs": [],
   "source": [
    "del(allele)"
   ]
  },
  {
   "cell_type": "code",
   "execution_count": null,
   "metadata": {
    "collapsed": true
   },
   "outputs": [],
   "source": []
  },
  {
   "cell_type": "markdown",
   "metadata": {},
   "source": [
    "#### Generate probability images"
   ]
  },
  {
   "cell_type": "code",
   "execution_count": null,
   "metadata": {
    "scrolled": true
   },
   "outputs": [
    {
     "name": "stdout",
     "output_type": "stream",
     "text": [
      "[35640, 8, 1, 64, 64]\n"
     ]
    }
   ],
   "source": [
    "print(([allimgs.shape[0]]+[8]+[*allimgs.shape[1:]]))"
   ]
  },
  {
   "cell_type": "code",
   "execution_count": null,
   "metadata": {
    "collapsed": true
   },
   "outputs": [],
   "source": [
    "import scipy.signal as sig\n",
    "\n",
    "prob_rlzs = np.zeros(([allimgs.shape[0]]+[8]+[*allimgs.shape[1:]]), dtype=np.float32) # dimension = [35640, 24, 1, 64, 64]  \n",
    "count = 0\n",
    "for k in range(13,27,4):\n",
    "    kernel = norm_kernel(size = k, sigma = k)  # size should be set to be odd\n",
    "    for num in range(allimgs.shape[0]):\n",
    "        cur_image = allimgs[num,0]/255.0\n",
    "        padvalue = np.mean(cur_image)\n",
    "        prob_image = sig.convolve2d(cur_image, kernel, fillvalue = padvalue, mode='same') \n",
    "        prob_rlzs[num, count, 0] = prob_image\n",
    "\n",
    "        prob_image = np.expand_dims(prob_image, axis=0)\n",
    "        prob_image = np.repeat(prob_image, 1, axis=0)   # dimension = [3, 1, 64, 64]  \n",
    "        random_samples = np.random.uniform(0,1,(1, 64, 64))\n",
    "        random_samples = (random_samples <= prob_image)\n",
    "        \n",
    "        for rd in range(1):\n",
    "            padvalue = np.mean(random_samples[rd])\n",
    "            prob_rlzs[num, count + 1 + rd, 0] = sig.convolve2d(random_samples[rd], kernel, fillvalue = padvalue, mode='same')  \n",
    "            \n",
    "    count = count + 2    "
   ]
  },
  {
   "cell_type": "code",
   "execution_count": null,
   "metadata": {
    "collapsed": true
   },
   "outputs": [],
   "source": [
    "print(prob_rlzs.shape)"
   ]
  },
  {
   "cell_type": "code",
   "execution_count": null,
   "metadata": {
    "collapsed": true
   },
   "outputs": [],
   "source": [
    "%matplotlib inline\n",
    "import matplotlib.pyplot as plt"
   ]
  },
  {
   "cell_type": "code",
   "execution_count": null,
   "metadata": {
    "collapsed": true
   },
   "outputs": [],
   "source": [
    "plt.imshow(allimgs[652,0])"
   ]
  },
  {
   "cell_type": "code",
   "execution_count": null,
   "metadata": {
    "collapsed": true
   },
   "outputs": [],
   "source": [
    "fig, ax = plt.subplots(4, 2, sharex='col', sharey='row')\n",
    "fig.set_size_inches(10.5, 10.5, forward=True)\n",
    "  \n",
    "ax[0, 0].imshow(allimgs[652,0])\n",
    "ax[0, 1].imshow(allimgs[28252,0])\n",
    "ax[1, 0].imshow(allimgs[11652,0])\n",
    "ax[1, 1].imshow(allimgs[3652,0])\n",
    "ax[2, 0].imshow(allimgs[9652,0])\n",
    "ax[2, 1].imshow(allimgs[2652,0])\n",
    "ax[3, 0].imshow(allimgs[16652,0])\n",
    "ax[3, 0].imshow(allimgs[20652,0])"
   ]
  },
  {
   "cell_type": "code",
   "execution_count": null,
   "metadata": {
    "collapsed": true
   },
   "outputs": [],
   "source": [
    "fig, ax = plt.subplots(4, 4, sharex='col', sharey='row')\n",
    "fig.set_size_inches(10.5, 10.5, forward=True)\n",
    "  \n",
    "ax[0, 0].imshow(prob_rlzs[652,0,0])\n",
    "ax[0, 1].imshow(prob_rlzs[652,1,0])\n",
    "ax[0, 2].imshow(prob_rlzs[28252,0,0])\n",
    "ax[0, 3].imshow(prob_rlzs[28252,1,0])\n",
    "\n",
    "ax[1, 0].imshow(prob_rlzs[11652,2,0])\n",
    "ax[1, 1].imshow(prob_rlzs[11652,3,0])\n",
    "ax[1, 2].imshow(prob_rlzs[3652,2,0])\n",
    "ax[1, 3].imshow(prob_rlzs[3652,3,0])\n",
    "\n",
    "ax[2, 0].imshow(prob_rlzs[9652,4,0])\n",
    "ax[2, 1].imshow(prob_rlzs[9652,5,0])\n",
    "ax[2, 2].imshow(prob_rlzs[2652,4,0])\n",
    "ax[2, 3].imshow(prob_rlzs[2652,5,0])\n",
    "\n",
    "ax[3, 0].imshow(prob_rlzs[16652,6,0])\n",
    "ax[3, 1].imshow(prob_rlzs[16652,7,0])\n",
    "ax[3, 2].imshow(prob_rlzs[20652,6,0])\n",
    "ax[3, 3].imshow(prob_rlzs[20652,7,0])\n"
   ]
  },
  {
   "cell_type": "code",
   "execution_count": 14,
   "metadata": {
    "scrolled": false
   },
   "outputs": [
    {
     "data": {
      "image/png": "[encoded data removed]",
      "text/plain": [
       "<Figure size 756x756 with 8 Axes>"
      ]
     },
     "metadata": {},
     "output_type": "display_data"
    }
   ],
   "source": [
    "fig, ax = plt.subplots(2, 4, sharex='col', sharey='row')\n",
    "fig.set_size_inches(10.5, 10.5, forward=True)\n",
    "  \n",
    "for i in range (2):\n",
    "  for j in range(4):\n",
    "    ax[i, j].imshow(prob_rlzs[652, i*4 + j,0,:,:])"
   ]
  },
  {
   "cell_type": "code",
   "execution_count": null,
   "metadata": {
    "collapsed": true
   },
   "outputs": [],
   "source": [
    "prob_rlzs = prob_rlzs.reshape(-1,1, 64, 64) "
   ]
  },
  {
   "cell_type": "markdown",
   "metadata": {},
   "source": [
    "** Shuffle prob_rlzs**"
   ]
  },
  {
   "cell_type": "code",
   "execution_count": 16,
   "metadata": {
    "collapsed": true
   },
   "outputs": [],
   "source": [
    "np.random.shuffle(prob_rlzs)  # totally randomize the prob_rlzs"
   ]
  },
  {
   "cell_type": "markdown",
   "metadata": {},
   "source": [
    "** Generate well conditional points**"
   ]
  },
  {
   "cell_type": "code",
   "execution_count": null,
   "metadata": {
    "collapsed": true
   },
   "outputs": [],
   "source": [
    "well_points = np.zeros(prob_rlzs.shape, dtype = int)\n",
    "for i in range(prob_rlzs.shape[0]):\n",
    "    well_points_num = np.random.choice(np.arange(1, 21), 1)  # Random choose the expected total number of well points\n",
    "    xs = np.random.choice(64, well_points_num)\n",
    "    ys = np.random.choice(64, well_points_num)\n",
    "    well_points[i, 0, xs, ys] = 1"
   ]
  },
  {
   "cell_type": "code",
   "execution_count": 18,
   "metadata": {},
   "outputs": [
    {
     "data": {
      "text/plain": [
       "(array([28570., 29035., 28424., 28383., 28322., 28667., 28836., 28409.,\n",
       "        28697., 27777.]),\n",
       " array([ 1. ,  2.9,  4.8,  6.7,  8.6, 10.5, 12.4, 14.3, 16.2, 18.1, 20. ]),\n",
       " <a list of 10 Patch objects>)"
      ]
     },
     "execution_count": 18,
     "metadata": {},
     "output_type": "execute_result"
    },
    {
     "data": {
      "image/png": "[encoded data removed]",
      "text/plain": [
       "<Figure size 432x288 with 1 Axes>"
      ]
     },
     "metadata": {},
     "output_type": "display_data"
    }
   ],
   "source": [
    "plt.hist(np.sum(well_points, axis = (2,3)))"
   ]
  },
  {
   "cell_type": "code",
   "execution_count": 19,
   "metadata": {},
   "outputs": [
    {
     "name": "stdout",
     "output_type": "stream",
     "text": [
      "1\n"
     ]
    }
   ],
   "source": [
    "print(np.min(np.sum(well_points, axis = (2,3))))"
   ]
  },
  {
   "cell_type": "code",
   "execution_count": null,
   "metadata": {
    "collapsed": true
   },
   "outputs": [],
   "source": [
    "Prob_rlzs_max = np.max(prob_rlzs, axis = (2, 3), keepdims = True)\n",
    "Prob_rlzs_min = np.min(prob_rlzs, axis = (2, 3), keepdims = True)\n",
    "# well_points = well_points.reshape(-1, 1, 64, 64) * (np.repeat(allimgs, 8, axis=0)/255*2+1)  \n",
    "well_facies = well_points * (prob_rlzs - Prob_rlzs_min)/(Prob_rlzs_max - Prob_rlzs_min)\n",
    "# well_points: 0-no wells, 1-mud facies, 1-levee facies, 2-channel facies"
   ]
  },
  {
   "cell_type": "code",
   "execution_count": null,
   "metadata": {
    "scrolled": true
   },
   "outputs": [],
   "source": [
    "plt.imshow(well_facies[664,0])\n",
    "plt.colorbar()"
   ]
  },
  {
   "cell_type": "code",
   "execution_count": null,
   "metadata": {
    "collapsed": true
   },
   "outputs": [],
   "source": [
    "# well_facies = np.where(well_facies<=0.5, np.sqrt(well_facies/2), 1-np.sqrt(-0.5*(well_facies-1)))\n",
    "well_facies = np.where(well_facies<=0.4, 0, well_facies)  # because the values close the edges are also pretty high."
   ]
  },
  {
   "cell_type": "code",
   "execution_count": null,
   "metadata": {},
   "outputs": [],
   "source": [
    "plt.imshow(well_facies[664,0])\n",
    "plt.colorbar()"
   ]
  },
  {
   "cell_type": "code",
   "execution_count": null,
   "metadata": {
    "collapsed": true
   },
   "outputs": [],
   "source": [
    "well_facies_random = np.random.uniform(0,1,well_facies.shape)\n",
    "well_facies = np.where(well_facies_random<well_facies, 1, 0) + well_points\n"
   ]
  },
  {
   "cell_type": "code",
   "execution_count": null,
   "metadata": {},
   "outputs": [],
   "source": [
    "plt.imshow(prob_rlzs[28994,0])\n",
    "plt.colorbar()"
   ]
  },
  {
   "cell_type": "code",
   "execution_count": null,
   "metadata": {},
   "outputs": [],
   "source": [
    "plt.imshow(well_facies[28994,0])\n",
    "plt.colorbar()"
   ]
  },
  {
   "cell_type": "code",
   "execution_count": null,
   "metadata": {},
   "outputs": [],
   "source": [
    "well_facies_t = np.where(well_facies[28994,0]==1, 0.6, prob_rlzs[28994,0])\n",
    "well_facies_t = np.where((well_facies[28994,0]==2), 0.8, well_facies_t)   \n",
    "plt.imshow(well_facies_t)\n",
    "plt.colorbar()"
   ]
  },
  {
   "cell_type": "code",
   "execution_count": null,
   "metadata": {
    "collapsed": true
   },
   "outputs": [],
   "source": []
  },
  {
   "cell_type": "code",
   "execution_count": 44,
   "metadata": {
    "collapsed": true
   },
   "outputs": [],
   "source": [
    "f1_co = np.argwhere(well_facies==2)\n",
    "f1_prob_aver = np.average(prob_rlzs[f1_co[:,0], f1_co[:,1], f1_co[:,2], f1_co[:,3]])"
   ]
  },
  {
   "cell_type": "code",
   "execution_count": 45,
   "metadata": {
    "collapsed": true
   },
   "outputs": [],
   "source": [
    "f0_co = np.argwhere(well_facies==1)\n",
    "f0_prob_aver = np.average(prob_rlzs[f0_co[:,0], f0_co[:,1], f0_co[:,2], f0_co[:,3]])"
   ]
  },
  {
   "cell_type": "code",
   "execution_count": 46,
   "metadata": {},
   "outputs": [
    {
     "name": "stdout",
     "output_type": "stream",
     "text": [
      "0.4821539\n"
     ]
    }
   ],
   "source": [
    "print(f1_prob_aver)"
   ]
  },
  {
   "cell_type": "code",
   "execution_count": 47,
   "metadata": {},
   "outputs": [
    {
     "name": "stdout",
     "output_type": "stream",
     "text": [
      "0.20299183\n"
     ]
    }
   ],
   "source": [
    "print(f0_prob_aver)"
   ]
  },
  {
   "cell_type": "code",
   "execution_count": 48,
   "metadata": {},
   "outputs": [
    {
     "name": "stdout",
     "output_type": "stream",
     "text": [
      "0.0\n"
     ]
    }
   ],
   "source": [
    "print(np.min(prob_rlzs))"
   ]
  },
  {
   "cell_type": "markdown",
   "metadata": {},
   "source": []
  },
  {
   "cell_type": "code",
   "execution_count": 49,
   "metadata": {
    "collapsed": true
   },
   "outputs": [],
   "source": [
    "labels_list=[]  # store all labels of the file. \n",
    "with open (labels_path) as lb:\n",
    "    for line in lb:\n",
    "        labels_list.append(line.strip().split('  '))\n",
    "\n",
    "ori_labels_no = len(labels_list) # number of labels in the opened file\n",
    "ori_labels_arr=np.array(labels_list, dtype=np.int32).reshape(ori_labels_no, 5).astype(np.int32)\n",
    "\n",
    "all_labels_arr = np.empty((ori_labels_no*6,5), dtype=np.int)\n",
    "\n",
    "# To be corresponding to augmented realizations, labels are first mutiplied with 3 times.\n",
    "all_labels_arr[:ori_labels_no*3:3,:]=ori_labels_arr\n",
    "all_labels_arr[1:ori_labels_no*3:3,:]=ori_labels_arr\n",
    "all_labels_arr[2:ori_labels_no*3:3,:]=ori_labels_arr\n",
    "\n",
    "all_labels_arr[:,1]=all_labels_arr[:,1]*(-1) # orientation is negativized. \n",
    "\n",
    "# labels are augmented for 0-90 orientation realizations\n",
    "all_labels_arr[ori_labels_no*3:ori_labels_no*6:3,:]=ori_labels_arr\n",
    "all_labels_arr[ori_labels_no*3+1:ori_labels_no*6:3,:]=ori_labels_arr\n",
    "all_labels_arr[ori_labels_no*3+2:ori_labels_no*6:3,:]=ori_labels_arr\n"
   ]
  },
  {
   "cell_type": "code",
   "execution_count": 50,
   "metadata": {
    "collapsed": true
   },
   "outputs": [],
   "source": [
    "labels_cor = np.empty((all_labels_arr.shape[0], 4), dtype=np.int)\n",
    "orit = all_labels_arr[:, 1]   # Orientation is placed in the first column, because its loss is a little bit dif from others\n",
    "labels_cor[:,0] = ((orit - np.min(orit))/(np.max(orit) - np.min(orit)) - 0.5) * 2\n",
    "\n",
    "labels_cor = np.zeros([all_labels_arr.shape[0], 4])\n",
    "back_ratio = 1-np.count_nonzero(allimgs, (1,2,3))/(64*64)\n",
    "labels_cor[:,1] = ((back_ratio - np.min(back_ratio))/(np.max(back_ratio) - np.min(back_ratio)) - 0.5) * 2\n",
    "\n",
    "width = all_labels_arr[:, 2]\n",
    "labels_cor[:,2] = ((width - np.min(width ))/(np.max(width ) - np.min(width )) - 0.5) * 2\n",
    "    \n",
    "amwv_ratio = all_labels_arr[:, 4]/all_labels_arr[:, 3]\n",
    "labels_cor[:,3] = ((amwv_ratio  - np.min(amwv_ratio ))/(np.max(amwv_ratio ) - np.min(amwv_ratio )) - 0.5) * 2"
   ]
  },
  {
   "cell_type": "code",
   "execution_count": 51,
   "metadata": {},
   "outputs": [
    {
     "name": "stdout",
     "output_type": "stream",
     "text": [
      "Creating dataset \"/scratch/users/suihong/training_data/TrainingData(MultiChannels_Version4)/Imgs_Labels_Prob_Wells_tfrecords\"\n",
      "Added 35640 images.                     \n"
     ]
    }
   ],
   "source": [
    "\n",
    "with TFRecordExporter(tfrecord_dir, allimgs.shape[0]) as tfr:\n",
    "    order = tfr.choose_shuffled_order()\n",
    "    for idx in range(order.size):\n",
    "        tfr.add_real_image(allimgs[order[idx]])\n",
    "    tfr.add_labels(labels_cor[order])     \n",
    "\n",
    "    "
   ]
  },
  {
   "cell_type": "code",
   "execution_count": 52,
   "metadata": {},
   "outputs": [
    {
     "name": "stdout",
     "output_type": "stream",
     "text": [
      "Creating dataset \"/scratch/users/suihong/training_data/TrainingData(MultiChannels_Version4)/Imgs_Labels_Prob_Wells_tfrecords\"\n",
      "Added 285120 images.                    \n"
     ]
    }
   ],
   "source": [
    "with TFRecordExporter(tfrecord_dir, prob_rlzs.shape[0]) as tfr:\n",
    "    for idx in range(prob_rlzs.shape[0]):\n",
    "        tfr.add_prob_image(prob_rlzs[idx])     "
   ]
  },
  {
   "cell_type": "code",
   "execution_count": 53,
   "metadata": {},
   "outputs": [
    {
     "name": "stdout",
     "output_type": "stream",
     "text": [
      "Creating dataset \"/scratch/users/suihong/training_data/TrainingData(MultiChannels_Version4)/Imgs_Labels_Prob_Wells_tfrecords\"\n",
      "Added 285120 images.                    \n"
     ]
    }
   ],
   "source": [
    "with TFRecordExporter(tfrecord_dir, prob_rlzs.shape[0]) as tfr:\n",
    "    for idx in range(well_facies.shape[0]):\n",
    "        tfr.add_well_facies(well_facies[idx])     "
   ]
  },
  {
   "cell_type": "code",
   "execution_count": null,
   "metadata": {
    "collapsed": true
   },
   "outputs": [],
   "source": [
    "print(allimgs.shape)"
   ]
  },
  {
   "cell_type": "code",
   "execution_count": null,
   "metadata": {
    "collapsed": true
   },
   "outputs": [],
   "source": [
    "print(prob_rlzs.shape)"
   ]
  },
  {
   "cell_type": "code",
   "execution_count": null,
   "metadata": {
    "collapsed": true
   },
   "outputs": [],
   "source": [
    "print(well_points.shape)"
   ]
  },
  {
   "cell_type": "code",
   "execution_count": null,
   "metadata": {
    "collapsed": true
   },
   "outputs": [],
   "source": []
  }
 ],
 "metadata": {
  "kernelspec": {
   "display_name": "Python 3",
   "language": "python",
   "name": "python3"
  },
  "language_info": {
   "codemirror_mode": {
    "name": "ipython",
    "version": 3
   },
   "file_extension": ".py",
   "mimetype": "text/x-python",
   "name": "python",
   "nbconvert_exporter": "python",
   "pygments_lexer": "ipython3",
   "version": "3.6.1"
  }
 },
 "nbformat": 4,
 "nbformat_minor": 2
}
