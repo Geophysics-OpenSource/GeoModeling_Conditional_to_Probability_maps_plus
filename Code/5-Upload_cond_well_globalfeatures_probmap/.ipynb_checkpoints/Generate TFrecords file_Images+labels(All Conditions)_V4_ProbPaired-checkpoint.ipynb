{
 "cells": [
  {
   "cell_type": "code",
   "execution_count": 1,
   "metadata": {
    "collapsed": true
   },
   "outputs": [],
   "source": [
    "import numpy as np\n",
    "import tensorflow as tf\n",
    "import os"
   ]
  },
  {
   "cell_type": "code",
   "execution_count": 2,
   "metadata": {
    "collapsed": true
   },
   "outputs": [],
   "source": [
    "# copy from ProGAN github dataset_tools.py\n",
    "class TFRecordExporter:\n",
    "    def __init__(self, tfrecord_dir, expected_images, print_progress=True, progress_interval=10):\n",
    "        self.tfrecord_dir       = tfrecord_dir\n",
    "        self.tfr_prefix         = os.path.join(self.tfrecord_dir, os.path.basename(self.tfrecord_dir))\n",
    "        self.expected_images    = expected_images\n",
    "        self.cur_images         = 0\n",
    "        self.shape              = None\n",
    "        self.resolution_log2    = None\n",
    "        self.tfr_writers        = []\n",
    "        self.print_progress     = print_progress\n",
    "        self.progress_interval  = progress_interval\n",
    "        if self.print_progress:\n",
    "            print('Creating dataset \"%s\"' % tfrecord_dir)\n",
    "        if not os.path.isdir(self.tfrecord_dir):\n",
    "            os.makedirs(self.tfrecord_dir)\n",
    "        assert(os.path.isdir(self.tfrecord_dir))\n",
    "        \n",
    "    def close(self):\n",
    "        if self.print_progress:\n",
    "            print('%-40s\\r' % 'Flushing data...', end='', flush=True)\n",
    "        for tfr_writer in self.tfr_writers:\n",
    "            tfr_writer.close()\n",
    "        self.tfr_writers = []\n",
    "        if self.print_progress:\n",
    "            print('%-40s\\r' % '', end='', flush=True)\n",
    "            print('Added %d images.' % self.cur_images)\n",
    "\n",
    "    def choose_shuffled_order(self): # Note: Images and labels must be added in shuffled order.\n",
    "        order = np.arange(self.expected_images)\n",
    "        np.random.RandomState(123).shuffle(order)\n",
    "        return order\n",
    "\n",
    "    def add_real_and_prob_image(self, real_img, prob_image):\n",
    "        if self.print_progress and self.cur_images % self.progress_interval == 0:\n",
    "            print('%d / %d\\r' % (self.cur_images, self.expected_images), end='', flush=True)\n",
    "        if self.shape is None:\n",
    "            self.shape = real_img.shape\n",
    "            self.resolution_log2 = int(np.log2(self.shape[1]))\n",
    "            assert self.shape[0] in [1, 3]\n",
    "            assert self.shape[1] == self.shape[2]\n",
    "            assert self.shape[1] == 2**self.resolution_log2\n",
    "            tfr_opt = tf.python_io.TFRecordOptions(tf.python_io.TFRecordCompressionType.NONE)\n",
    "            for lod in range(self.resolution_log2 - 1):\n",
    "                tfr_file = self.tfr_prefix + '-1r%02d.tfrecords' % (self.resolution_log2 - lod)\n",
    "                self.tfr_writers.append(tf.python_io.TFRecordWriter(tfr_file, tfr_opt))\n",
    "            # add probimages writer into self.tfr_writers    \n",
    "            tfr_file = self.tfr_prefix + '-2probimages.tfrecords' \n",
    "            self.tfr_writers.append(tf.python_io.TFRecordWriter(tfr_file, tfr_opt))\n",
    "        assert real_img.shape == self.shape\n",
    "        for lod, tfr_writer in enumerate(self.tfr_writers[:-1]):\n",
    "            if lod:\n",
    "                real_img = real_img.astype(np.float32)\n",
    "                real_img = (real_img[:, 0::2, 0::2] + real_img[:, 0::2, 1::2] + real_img[:, 1::2, 0::2] + real_img[:, 1::2, 1::2]) * 0.25\n",
    "            quant = np.rint(real_img).clip(0, 255).astype(np.uint8)\n",
    "            ex = tf.train.Example(features=tf.train.Features(feature={\n",
    "                'shape': tf.train.Feature(int64_list=tf.train.Int64List(value=quant.shape)),\n",
    "                'data': tf.train.Feature(bytes_list=tf.train.BytesList(value=[quant.tostring()]))}))\n",
    "            tfr_writer.write(ex.SerializeToString())\n",
    "        # Writting prob_image into tfrecord file\n",
    "        quant = prob_image.clip(0, 1).astype(np.float16)\n",
    "        ex = tf.train.Example(features=tf.train.Features(feature={\n",
    "            'shape': tf.train.Feature(int64_list=tf.train.Int64List(value=quant.shape)),\n",
    "            'data': tf.train.Feature(bytes_list=tf.train.BytesList(value=[quant.tostring()]))}))\n",
    "        self.tfr_writers[-1].write(ex.SerializeToString())\n",
    "        self.cur_images += 1\n",
    "       \n",
    "        \n",
    "    def add_labels(self, labels):\n",
    "        if self.print_progress:\n",
    "            print('%-40s\\r' % 'Saving labels...', end='', flush=True)\n",
    "        assert labels.shape[0] == self.cur_images\n",
    "        with open(self.tfr_prefix + '-3rxx.labels', 'wb') as f:\n",
    "            np.save(f, labels.astype(np.float32))\n",
    "\n",
    "    def __enter__(self):\n",
    "        return self\n",
    "    \n",
    "    def __exit__(self, *args):\n",
    "        self.close()"
   ]
  },
  {
   "cell_type": "code",
   "execution_count": 3,
   "metadata": {
    "collapsed": true
   },
   "outputs": [],
   "source": [
    "from scipy.stats import multivariate_normal\n",
    "def norm_kernel(size = 9, sigma = 2):\n",
    "    sig = sigma * np.eye(2)\n",
    "    mean = np.zeros(2,)\n",
    "    size_min = -(size - 1)/2\n",
    "    size_max = (size - 1)/2\n",
    "    x = np.linspace(size_min, size_max, size)\n",
    "    y = np.linspace(size_min, size_max, size)\n",
    "    xk, yk = np.meshgrid(x, y)\n",
    "    kernel = np.zeros((size,size), dtype=np.float32)\n",
    "    for i in range(size):\n",
    "        for j in range(size):\n",
    "            coord = np.squeeze([xk[i,j], yk[i,j]])\n",
    "            kernel[i,j] = multivariate_normal.pdf(coord, mean=mean, cov=sig)\n",
    "    kernel_sum = np.sum(kernel)\n",
    "    kernel = kernel / kernel_sum\n",
    "    return kernel"
   ]
  },
  {
   "cell_type": "code",
   "execution_count": 4,
   "metadata": {
    "collapsed": true
   },
   "outputs": [],
   "source": [
    "Filepath = '/scratch/users/suihong/training_data/Original_PetrelOutput_2D_V5/2D_AllPro_Gslib_fromPetrel(version5)' \n",
    "labels_path = '/scratch/users/suihong/training_data/Original_PetrelOutput_2D_V5/labels(version5).txt' \n",
    "tfrecord_dir = '/scratch/users/suihong/training_data/TrainingData(MultiChannels_Version5)/ImgsAndAllConditions_tfrecords'"
   ]
  },
  {
   "cell_type": "markdown",
   "metadata": {},
   "source": [
    "#### load images"
   ]
  },
  {
   "cell_type": "code",
   "execution_count": null,
   "metadata": {
    "collapsed": true
   },
   "outputs": [],
   "source": [
    "allele=[]  # store all elements of the file. including 100*10 lists, and each list includes code for all realizations\n",
    "with open (Filepath) as fl:\n",
    "    for line in fl:\n",
    "        eles = line.strip().split(' ')\n",
    "       \n",
    "        if len(eles)>=5:            \n",
    "            allele.append(eles)\n",
    "            \n",
    "rlz_no = len(allele[0]) # number of realizations\n",
    "partimgs = np.where(partimgs == 1, 4, partimgs)/2 * 127.5 # exchange code of levee and channels\n",
    "allimgs = np.concatenate((partimgs, partimgs[::-1,:,:]),2)  \n",
    "allimgs = np.transpose(allimgs, (2, 0, 1))  # transpose into (?, 100, 100) dimension\n",
    "allimgs = allimgs.reshape(-1, 1, 100, 100)"
   ]
  },
  {
   "cell_type": "code",
   "execution_count": 25,
   "metadata": {},
   "outputs": [
    {
     "name": "stdout",
     "output_type": "stream",
     "text": [
      "17819\n"
     ]
    }
   ],
   "source": [
    "print(rlz_no )"
   ]
  },
  {
   "cell_type": "markdown",
   "metadata": {},
   "source": [
    "#### Generate probability images"
   ]
  },
  {
   "cell_type": "code",
   "execution_count": 6,
   "metadata": {
    "collapsed": true
   },
   "outputs": [],
   "source": [
    "import scipy.signal as sig\n",
    "kernel = norm_kernel(size = 19, sigma = 19)  # size should be set to be odd\n",
    "prob_images = np.zeros(allimgs.shape, dtype=np.float32)\n",
    "for num in range(allimgs.shape[0]):\n",
    "    cur_image = allimgs[num,0]/255.0\n",
    "    padvalue = np.mean(cur_image)\n",
    "    prob_images[num,0] = sig.convolve2d(cur_image, kernel, fillvalue = padvalue, mode='same')    "
   ]
  },
  {
   "cell_type": "code",
   "execution_count": 7,
   "metadata": {
    "collapsed": true
   },
   "outputs": [],
   "source": [
    "%matplotlib inline\n",
    "import matplotlib.pyplot as plt"
   ]
  },
  {
   "cell_type": "code",
   "execution_count": 8,
   "metadata": {},
   "outputs": [
    {
     "data": {
      "text/plain": [
       "<matplotlib.image.AxesImage at 0x7fea452b17b8>"
      ]
     },
     "execution_count": 8,
     "metadata": {},
     "output_type": "execute_result"
    },
    {
     "data": {
      "image/png": "[encoded data removed]",
      "text/plain": [
       "<Figure size 432x288 with 1 Axes>"
      ]
     },
     "metadata": {},
     "output_type": "display_data"
    }
   ],
   "source": [
    "plt.imshow(allimgs[652,0])"
   ]
  },
  {
   "cell_type": "code",
   "execution_count": 9,
   "metadata": {},
   "outputs": [
    {
     "data": {
      "text/plain": [
       "<matplotlib.image.AxesImage at 0x7fea44dfc4e0>"
      ]
     },
     "execution_count": 9,
     "metadata": {},
     "output_type": "execute_result"
    },
    {
     "data": {
      "image/png": "[encoded data removed]",
      "text/plain": [
       "<Figure size 432x288 with 1 Axes>"
      ]
     },
     "metadata": {},
     "output_type": "display_data"
    }
   ],
   "source": [
    "plt.imshow(prob_images[652,0])"
   ]
  },
  {
   "cell_type": "code",
   "execution_count": 10,
   "metadata": {},
   "outputs": [
    {
     "data": {
      "text/plain": [
       "<matplotlib.image.AxesImage at 0x7fea44d4ef98>"
      ]
     },
     "execution_count": 10,
     "metadata": {},
     "output_type": "execute_result"
    },
    {
     "data": {
      "image/png": "[encoded data removed]",
      "text/plain": [
       "<Figure size 432x288 with 1 Axes>"
      ]
     },
     "metadata": {},
     "output_type": "display_data"
    }
   ],
   "source": [
    "plt.imshow(norm_kernel(size = 19, sigma = 19))"
   ]
  },
  {
   "cell_type": "code",
   "execution_count": 11,
   "metadata": {},
   "outputs": [
    {
     "name": "stdout",
     "output_type": "stream",
     "text": [
      "(35638, 1, 100, 100)\n"
     ]
    }
   ],
   "source": [
    "print(allimgs.shape)"
   ]
  },
  {
   "cell_type": "code",
   "execution_count": 13,
   "metadata": {},
   "outputs": [
    {
     "name": "stdout",
     "output_type": "stream",
     "text": [
      "(35638, 1, 100, 100)\n"
     ]
    }
   ],
   "source": [
    "print(prob_images.shape)"
   ]
  },
  {
   "cell_type": "markdown",
   "metadata": {},
   "source": [
    "#### Cut allimages and probability images into 64*64"
   ]
  },
  {
   "cell_type": "code",
   "execution_count": null,
   "metadata": {
    "collapsed": true
   },
   "outputs": [],
   "source": [
    "allimgs = allimgs[:,:,18:82, 18:82]\n",
    "prob_images = prob_images[:,:,18:82, 18:82]"
   ]
  },
  {
   "cell_type": "code",
   "execution_count": null,
   "metadata": {
    "collapsed": true
   },
   "outputs": [],
   "source": [
    "print(allimgs.shape)"
   ]
  },
  {
   "cell_type": "code",
   "execution_count": null,
   "metadata": {
    "collapsed": true
   },
   "outputs": [],
   "source": [
    "print(prob_images.shape)"
   ]
  },
  {
   "cell_type": "code",
   "execution_count": null,
   "metadata": {
    "collapsed": true
   },
   "outputs": [],
   "source": [
    "plt.imshow(allimgs[652,0])"
   ]
  },
  {
   "cell_type": "code",
   "execution_count": null,
   "metadata": {
    "collapsed": true
   },
   "outputs": [],
   "source": [
    "plt.imshow(prob_images[652,0])"
   ]
  },
  {
   "cell_type": "code",
   "execution_count": null,
   "metadata": {
    "collapsed": true
   },
   "outputs": [],
   "source": []
  },
  {
   "cell_type": "markdown",
   "metadata": {},
   "source": [
    "#### arrange and post process loabels"
   ]
  },
  {
   "cell_type": "code",
   "execution_count": 9,
   "metadata": {
    "collapsed": true
   },
   "outputs": [],
   "source": [
    "labels_list=[]  # store all labels of the file. \n",
    "with open (labels_path) as lb:\n",
    "    for line in lb:\n",
    "        labels_list.append(line.strip().split('  '))\n",
    "\n",
    "ori_labels_no = len(labels_list) # number of labels in the opened file\n",
    "ori_labels_arr=np.array(labels_list, dtype=np.int32).reshape(ori_labels_no, 5).astype(np.int32)\n",
    "\n",
    "all_labels_arr = np.empty((ori_labels_no*6,5), dtype=np.int)\n",
    "\n",
    "# To be corresponding to augmented realizations, labels are first mutiplied with 3 times.\n",
    "all_labels_arr[:ori_labels_no*3:3,:]=ori_labels_arr\n",
    "all_labels_arr[1:ori_labels_no*3:3,:]=ori_labels_arr\n",
    "all_labels_arr[2:ori_labels_no*3:3,:]=ori_labels_arr\n",
    "\n",
    "all_labels_arr[:,1]=all_labels_arr[:,1]*(-1) # orientation is negativized. \n",
    "\n",
    "# labels are augmented for 0-90 orientation realizations\n",
    "all_labels_arr[ori_labels_no*3:ori_labels_no*6:3,:]=ori_labels_arr\n",
    "all_labels_arr[ori_labels_no*3+1:ori_labels_no*6:3,:]=ori_labels_arr\n",
    "all_labels_arr[ori_labels_no*3+2:ori_labels_no*6:3,:]=ori_labels_arr\n"
   ]
  },
  {
   "cell_type": "code",
   "execution_count": 10,
   "metadata": {},
   "outputs": [
    {
     "ename": "ValueError",
     "evalue": "could not broadcast input array from shape (35638) into shape (178200)",
     "output_type": "error",
     "traceback": [
      "\u001b[0;31m---------------------------------------------------------------------------\u001b[0m",
      "\u001b[0;31mValueError\u001b[0m                                Traceback (most recent call last)",
      "\u001b[0;32m<ipython-input-10-ef82adaf4074>\u001b[0m in \u001b[0;36m<module>\u001b[0;34m()\u001b[0m\n\u001b[1;32m      5\u001b[0m \u001b[0mlabels_cor\u001b[0m \u001b[0;34m=\u001b[0m \u001b[0mnp\u001b[0m\u001b[0;34m.\u001b[0m\u001b[0mzeros\u001b[0m\u001b[0;34m(\u001b[0m\u001b[0;34m[\u001b[0m\u001b[0mall_labels_arr\u001b[0m\u001b[0;34m.\u001b[0m\u001b[0mshape\u001b[0m\u001b[0;34m[\u001b[0m\u001b[0;36m0\u001b[0m\u001b[0;34m]\u001b[0m\u001b[0;34m,\u001b[0m \u001b[0;36m4\u001b[0m\u001b[0;34m]\u001b[0m\u001b[0;34m)\u001b[0m\u001b[0;34m\u001b[0m\u001b[0m\n\u001b[1;32m      6\u001b[0m \u001b[0mback_ratio\u001b[0m \u001b[0;34m=\u001b[0m \u001b[0;36m1\u001b[0m\u001b[0;34m-\u001b[0m\u001b[0mnp\u001b[0m\u001b[0;34m.\u001b[0m\u001b[0mcount_nonzero\u001b[0m\u001b[0;34m(\u001b[0m\u001b[0mallimgs\u001b[0m\u001b[0;34m,\u001b[0m \u001b[0;34m(\u001b[0m\u001b[0;36m1\u001b[0m\u001b[0;34m,\u001b[0m\u001b[0;36m2\u001b[0m\u001b[0;34m,\u001b[0m\u001b[0;36m3\u001b[0m\u001b[0;34m)\u001b[0m\u001b[0;34m)\u001b[0m\u001b[0;34m/\u001b[0m\u001b[0;34m(\u001b[0m\u001b[0;36m64\u001b[0m\u001b[0;34m*\u001b[0m\u001b[0;36m64\u001b[0m\u001b[0;34m)\u001b[0m\u001b[0;34m\u001b[0m\u001b[0m\n\u001b[0;32m----> 7\u001b[0;31m \u001b[0mlabels_cor\u001b[0m\u001b[0;34m[\u001b[0m\u001b[0;34m:\u001b[0m\u001b[0;34m,\u001b[0m\u001b[0;36m1\u001b[0m\u001b[0;34m]\u001b[0m \u001b[0;34m=\u001b[0m \u001b[0;34m(\u001b[0m\u001b[0;34m(\u001b[0m\u001b[0mback_ratio\u001b[0m \u001b[0;34m-\u001b[0m \u001b[0mnp\u001b[0m\u001b[0;34m.\u001b[0m\u001b[0mmin\u001b[0m\u001b[0;34m(\u001b[0m\u001b[0mback_ratio\u001b[0m\u001b[0;34m)\u001b[0m\u001b[0;34m)\u001b[0m\u001b[0;34m/\u001b[0m\u001b[0;34m(\u001b[0m\u001b[0mnp\u001b[0m\u001b[0;34m.\u001b[0m\u001b[0mmax\u001b[0m\u001b[0;34m(\u001b[0m\u001b[0mback_ratio\u001b[0m\u001b[0;34m)\u001b[0m \u001b[0;34m-\u001b[0m \u001b[0mnp\u001b[0m\u001b[0;34m.\u001b[0m\u001b[0mmin\u001b[0m\u001b[0;34m(\u001b[0m\u001b[0mback_ratio\u001b[0m\u001b[0;34m)\u001b[0m\u001b[0;34m)\u001b[0m \u001b[0;34m-\u001b[0m \u001b[0;36m0.5\u001b[0m\u001b[0;34m)\u001b[0m \u001b[0;34m*\u001b[0m \u001b[0;36m2\u001b[0m\u001b[0;34m\u001b[0m\u001b[0m\n\u001b[0m\u001b[1;32m      8\u001b[0m \u001b[0;34m\u001b[0m\u001b[0m\n\u001b[1;32m      9\u001b[0m \u001b[0mwidth\u001b[0m \u001b[0;34m=\u001b[0m \u001b[0mall_labels_arr\u001b[0m\u001b[0;34m[\u001b[0m\u001b[0;34m:\u001b[0m\u001b[0;34m,\u001b[0m \u001b[0;36m2\u001b[0m\u001b[0;34m]\u001b[0m\u001b[0;34m\u001b[0m\u001b[0m\n",
      "\u001b[0;31mValueError\u001b[0m: could not broadcast input array from shape (35638) into shape (178200)"
     ]
    }
   ],
   "source": [
    "labels_cor = np.empty((all_labels_arr.shape[0], 4), dtype=np.int)\n",
    "orit = all_labels_arr[:, 1]   # Orientation is placed in the first column, because its loss is a little bit dif from others\n",
    "labels_cor[:,0] = ((orit - np.min(orit))/(np.max(orit) - np.min(orit)) - 0.5) * 2\n",
    "\n",
    "labels_cor = np.zeros([all_labels_arr.shape[0], 4])\n",
    "back_ratio = 1-np.count_nonzero(allimgs, (1,2,3))/(64*64)\n",
    "labels_cor[:,1] = ((back_ratio - np.min(back_ratio))/(np.max(back_ratio) - np.min(back_ratio)) - 0.5) * 2\n",
    "\n",
    "width = all_labels_arr[:, 2]\n",
    "labels_cor[:,2] = ((width - np.min(width ))/(np.max(width ) - np.min(width )) - 0.5) * 2\n",
    "    \n",
    "amwv_ratio = all_labels_arr[:, 4]/all_labels_arr[:, 3]\n",
    "labels_cor[:,3] = ((amwv_ratio  - np.min(amwv_ratio ))/(np.max(amwv_ratio ) - np.min(amwv_ratio )) - 0.5) * 2"
   ]
  },
  {
   "cell_type": "code",
   "execution_count": null,
   "metadata": {
    "collapsed": true
   },
   "outputs": [],
   "source": []
  },
  {
   "cell_type": "code",
   "execution_count": null,
   "metadata": {
    "collapsed": true
   },
   "outputs": [],
   "source": [
    "\n",
    "with TFRecordExporter(tfrecord_dir, allimgs.shape[0]) as tfr:\n",
    "    order = tfr.choose_shuffled_order()\n",
    "    for idx in range(order.size):\n",
    "        tfr.add_real_and_prob_image(allimgs[order[idx]], prob_images[order[idx]])\n",
    "\n",
    "    tfr.add_labels(labels_cor[order])\n",
    "    "
   ]
  },
  {
   "cell_type": "code",
   "execution_count": null,
   "metadata": {
    "collapsed": true
   },
   "outputs": [],
   "source": [
    "print(allimgs[order].shape)"
   ]
  },
  {
   "cell_type": "code",
   "execution_count": null,
   "metadata": {
    "collapsed": true
   },
   "outputs": [],
   "source": [
    "print(prob_images[order].shape)"
   ]
  },
  {
   "cell_type": "code",
   "execution_count": null,
   "metadata": {
    "collapsed": true
   },
   "outputs": [],
   "source": []
  }
 ],
 "metadata": {
  "kernelspec": {
   "display_name": "Python 3",
   "language": "python",
   "name": "python3"
  },
  "language_info": {
   "codemirror_mode": {
    "name": "ipython",
    "version": 3
   },
   "file_extension": ".py",
   "mimetype": "text/x-python",
   "name": "python",
   "nbconvert_exporter": "python",
   "pygments_lexer": "ipython3",
   "version": "3.6.1"
  }
 },
 "nbformat": 4,
 "nbformat_minor": 2
}
